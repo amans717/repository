{
 "cells": [
  {
   "cell_type": "code",
   "execution_count": 2,
   "id": "599148e7",
   "metadata": {},
   "outputs": [
    {
     "name": "stdout",
     "output_type": "stream",
     "text": [
      "Help on built-in function print in module builtins:\n",
      "\n",
      "print(...)\n",
      "    print(value, ..., sep=' ', end='\\n', file=sys.stdout, flush=False)\n",
      "    \n",
      "    Prints the values to a stream, or to sys.stdout by default.\n",
      "    Optional keyword arguments:\n",
      "    file:  a file-like object (stream); defaults to the current sys.stdout.\n",
      "    sep:   string inserted between values, default a space.\n",
      "    end:   string appended after the last value, default a newline.\n",
      "    flush: whether to forcibly flush the stream.\n",
      "\n"
     ]
    }
   ],
   "source": [
    "help(\"print\")"
   ]
  },
  {
   "cell_type": "code",
   "execution_count": 4,
   "id": "6460270f",
   "metadata": {},
   "outputs": [],
   "source": [
    "### create function to add two numbers\n",
    "\n",
    "def add (x,y):\n",
    "    z=x+y\n",
    "    return z\n"
   ]
  },
  {
   "cell_type": "code",
   "execution_count": 6,
   "id": "fcb95cff",
   "metadata": {},
   "outputs": [
    {
     "data": {
      "text/plain": [
       "277"
      ]
     },
     "execution_count": 6,
     "metadata": {},
     "output_type": "execute_result"
    }
   ],
   "source": [
    "add (243,34)"
   ]
  },
  {
   "cell_type": "code",
   "execution_count": 8,
   "id": "108a4449",
   "metadata": {},
   "outputs": [
    {
     "data": {
      "text/plain": [
       "'datascience'"
      ]
     },
     "execution_count": 8,
     "metadata": {},
     "output_type": "execute_result"
    }
   ],
   "source": [
    "add(\"data\", \"science\")"
   ]
  },
  {
   "cell_type": "code",
   "execution_count": 9,
   "id": "e7d1d3ef",
   "metadata": {},
   "outputs": [],
   "source": [
    "### create function to add two numbers\n",
    "\n",
    "def add (x,y):\n",
    "    z=x+y\n",
    "    return z\n"
   ]
  },
  {
   "cell_type": "code",
   "execution_count": null,
   "id": "c5398a5e",
   "metadata": {},
   "outputs": [],
   "source": [
    "def add(x, y):\n",
    "    if isinstance(x, (int, float)) and isinstance(y, (int, float)):\n",
    "        return x + y\n",
    "    else:\n",
    "        raise TypeError(\"Both inputs must be numbers (int or float)\")\n"
   ]
  },
  {
   "cell_type": "markdown",
   "id": "1fe7ea24",
   "metadata": {},
   "source": [
    "variadic function\n",
    "----------variang arguments length\n",
    "---------- variable length arguments\n"
   ]
  },
  {
   "cell_type": "code",
   "execution_count": 11,
   "id": "a72184ff",
   "metadata": {},
   "outputs": [],
   "source": [
    "def add4(*args):\n",
    "    print(args)\n",
    "    print(type(args))"
   ]
  },
  {
   "cell_type": "code",
   "execution_count": 15,
   "id": "75107a78",
   "metadata": {},
   "outputs": [
    {
     "name": "stdout",
     "output_type": "stream",
     "text": [
      "(12, 23, 34, 56)\n",
      "<class 'tuple'>\n"
     ]
    }
   ],
   "source": [
    "add4(12,23,34,56)"
   ]
  },
  {
   "cell_type": "code",
   "execution_count": 21,
   "id": "08724bde",
   "metadata": {},
   "outputs": [],
   "source": [
    "def add4(*args):\n",
    "    add=0\n",
    "    for i in args:\n",
    "        add=add+i\n",
    "    return add"
   ]
  },
  {
   "cell_type": "code",
   "execution_count": 23,
   "id": "08928fc2",
   "metadata": {},
   "outputs": [
    {
     "data": {
      "text/plain": [
       "122"
      ]
     },
     "execution_count": 23,
     "metadata": {},
     "output_type": "execute_result"
    }
   ],
   "source": [
    "add4(12,13,43,54)"
   ]
  },
  {
   "cell_type": "code",
   "execution_count": 24,
   "id": "653b0caa",
   "metadata": {},
   "outputs": [],
   "source": [
    "def total_bill(*args):\n",
    "    total    = 0\n",
    "    bill_before_tax    = 0\n",
    "    for product , quantity , price in args:\n",
    "        subtotal    = price*quantity\n",
    "        print(f'sub total of {product} -- > {subtotal}')\n",
    "\n",
    "        bill_before_tax    = subtotal+ bill_before_tax\n",
    "        tax    = 0.18\n",
    "        taxable_amount    = bill_before_tax*0.18\n",
    "\n",
    "        total    = taxable_amount +bill_before_tax\n",
    "    print(f'bill_before_tax -- >{bill_before_tax}')\n",
    "    print(f'taxable  amount -- > { taxable_amount}' )\n",
    "    print(f'total_amount --> {total}')\n"
   ]
  },
  {
   "cell_type": "code",
   "execution_count": null,
   "id": "57a250a7",
   "metadata": {},
   "outputs": [],
   "source": []
  },
  {
   "cell_type": "code",
   "execution_count": null,
   "id": "81bb806a",
   "metadata": {},
   "outputs": [],
   "source": []
  }
 ],
 "metadata": {
  "kernelspec": {
   "display_name": "base",
   "language": "python",
   "name": "python3"
  },
  "language_info": {
   "codemirror_mode": {
    "name": "ipython",
    "version": 3
   },
   "file_extension": ".py",
   "mimetype": "text/x-python",
   "name": "python",
   "nbconvert_exporter": "python",
   "pygments_lexer": "ipython3",
   "version": "3.9.12"
  }
 },
 "nbformat": 4,
 "nbformat_minor": 5
}
